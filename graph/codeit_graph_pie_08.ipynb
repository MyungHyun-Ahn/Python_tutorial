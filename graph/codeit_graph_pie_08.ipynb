{
 "cells": [
  {
   "cell_type": "code",
   "execution_count": null,
   "metadata": {},
   "outputs": [],
   "source": [
    "%matplotlib inline\n",
    "import pandas as pd"
   ]
  },
  {
   "cell_type": "code",
   "execution_count": null,
   "metadata": {},
   "outputs": [],
   "source": [
    "df = pd.read_csv('data/silicon_valley_details.csv')"
   ]
  },
  {
   "cell_type": "code",
   "execution_count": null,
   "metadata": {},
   "outputs": [],
   "source": [
    "adobe_df = df.loc[df['company'] == 'Adobe'].copy()\n",
    "adobe_df.drop(adobe_df[adobe_df['count'] == 0].index, axis='index', inplace=True)\n",
    "job = adobe_df['job_category'].unique()"
   ]
  },
  {
   "cell_type": "code",
   "execution_count": null,
   "metadata": {},
   "outputs": [],
   "source": [
    "new_df = pd.DataFrame()"
   ]
  },
  {
   "cell_type": "code",
   "execution_count": null,
   "metadata": {},
   "outputs": [],
   "source": [
    "for j in job:\n",
    "    new_df = new_df.append({ 'job_category' : '%s'%(j), 'count' : 0 }, ignore_index=True)"
   ]
  },
  {
   "cell_type": "code",
   "execution_count": null,
   "metadata": {},
   "outputs": [],
   "source": [
    "for i in range(len(adobe_df)):\n",
    "    for j in range(len(new_df)):\n",
    "        if adobe_df.iloc[i, 4] == new_df.iloc[j, 1]:\n",
    "            new_df.iloc[j, 0] = new_df.iloc[j, 0] + adobe_df.iloc[i, 5]"
   ]
  },
  {
   "cell_type": "code",
   "execution_count": null,
   "metadata": {},
   "outputs": [],
   "source": [
    "new_df.drop(5, inplace=True)\n",
    "new_df.drop(6, inplace=True)\n",
    "new_df = new_df.set_index('job_category')\n",
    "new_df.plot(kind='pie', y='count')"
   ]
  }
 ],
 "metadata": {
  "language_info": {
   "name": "python"
  },
  "orig_nbformat": 4
 },
 "nbformat": 4,
 "nbformat_minor": 2
}
